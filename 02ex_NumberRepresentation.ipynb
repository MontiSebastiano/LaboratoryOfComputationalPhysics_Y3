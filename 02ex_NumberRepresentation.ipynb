{
 "cells": [
  {
   "cell_type": "markdown",
   "metadata": {},
   "source": [
    "1\\. Write a function that converts number representation (bin<->dec<->hex)"
   ]
  },
  {
   "cell_type": "code",
   "execution_count": 8,
   "metadata": {},
   "outputs": [
    {
     "name": "stdout",
     "output_type": "stream",
     "text": [
      "Insert a number in binary, decimal or hexadecimal base: 5\n",
      "Specify the base, bin, dec or hex: dec\n",
      "Number in binary representation:  0b101\n",
      "Number in hexadecimal representation:  0x5\n"
     ]
    }
   ],
   "source": [
    "def conv(n, base):\n",
    "    if base == \"bin\":\n",
    "        temp = int(n, 2)\n",
    "        print(\"Number in decimal representation: \", temp)\n",
    "        print(\"Number in hexadecimal representation: \", hex(temp))\n",
    "    elif base == \"dec\":\n",
    "        temp = int(n)\n",
    "        print(\"Number in binary representation: \", bin(temp))\n",
    "        print(\"Number in hexadecimal representation: \", hex(temp))\n",
    "    elif base == \"hex\":\n",
    "        temp = int(n, 16)\n",
    "        print(\"Number in binary representation: \", bin(temp))\n",
    "        print(\"Number in decimal representation: \", temp)\n",
    "    else:\n",
    "        print(\"Non valid conversion\")\n",
    "        \n",
    "a = input(\"Insert a number in binary, decimal or hexadecimal base: \")\n",
    "b = input(\"Specify the base, bin, dec or hex: \")\n",
    "conv(a, b)"
   ]
  },
  {
   "cell_type": "markdown",
   "metadata": {},
   "source": [
    "2\\. Write a function that converts a 32 bit word into a single precision floating point (i.e. interprets the various bits as sign, mantissa and exponent)"
   ]
  },
  {
   "cell_type": "code",
   "execution_count": 4,
   "metadata": {},
   "outputs": [
    {
     "name": "stdout",
     "output_type": "stream",
     "text": [
      "[1, 1, 0, 1, 1, 1, 1, 1, 0, 0, 1, 1, 1, 1, 1, 0, 0, 0, 1, 1, 1, 1, 1, 0, 1, 1, 1, 1, 1, 0, 0, 1]\n"
     ]
    },
    {
     "data": {
      "text/plain": [
       "-1.3708668094157685e+19"
      ]
     },
     "execution_count": 4,
     "metadata": {},
     "output_type": "execute_result"
    }
   ],
   "source": [
    "import random \n",
    "\n",
    "def spconv(st):\n",
    "    if st[0] == 0:\n",
    "        sgn = +1\n",
    "    elif st[0] == 1:\n",
    "        sgn = -1\n",
    "    x = 0\n",
    "    for i in range(1, 9):\n",
    "        x += st[i]*(2**(8-i))\n",
    "    exp = x - 127\n",
    "    mant = 1.\n",
    "    for j in range (9, len(st)):\n",
    "        mant += st[j]*(2**(8-j))\n",
    "    return(sgn*mant*(2**exp))\n",
    "    \n",
    "key = []\n",
    "\n",
    "for i in range(32): \n",
    "    temp = random.randint(0, 1) \n",
    "    key.append(temp) \n",
    "\n",
    "print(key)\n",
    "spconv(key)"
   ]
  },
  {
   "cell_type": "markdown",
   "metadata": {},
   "source": [
    "3\\. Write a program to determine the underflow and overflow limits (within a factor of 2) for python on your computer. \n",
    "\n",
    "**Tips**: define two variables inizialized to 1 and halve/double them enough time to exceed the under/over-flow limits  "
   ]
  },
  {
   "cell_type": "code",
   "execution_count": 23,
   "metadata": {},
   "outputs": [
    {
     "name": "stdout",
     "output_type": "stream",
     "text": [
      "UNDERFLOW:\n",
      "5.551115123125783e-17\n",
      "Number of iterations:  54\n",
      "0.9999999999999999\n",
      "1.0\n",
      "OVERFLOW:\n",
      "inf\n",
      "Number of iterations:  1024\n",
      "179769313486231590772930519078902473361797697894230657273430081157732675805500963132708477322407536021120113879871393357658789768814416622492847430639474124377767893424865485276302219601246094119453082952085005768838150682342462881473913110540827237163350510684586298239947245938479716304835356329624224137216\n"
     ]
    }
   ],
   "source": [
    "u = 1.\n",
    "o = 1.\n",
    "\n",
    "#UNDERFLOW\n",
    "i = 0\n",
    "while 1-u != 1:\n",
    "    u /= 2\n",
    "    i +=1\n",
    "\n",
    "print(\"UNDERFLOW:\")\n",
    "print(u)\n",
    "print(\"Number of iterations: \", i)\n",
    "print(1-(1/(2**53)))\n",
    "print(1-(1/(2**54)))\n",
    "\n",
    "#OVERFLOW\n",
    "j = 0\n",
    "while o*2 != o:\n",
    "    o *= 2\n",
    "    j +=1\n",
    "\n",
    "print(\"OVERFLOW:\")\n",
    "print(o)\n",
    "print(\"Number of iterations: \", j)\n",
    "print(2**1024)"
   ]
  },
  {
   "cell_type": "markdown",
   "metadata": {},
   "source": [
    "4\\. Write a program to determine the machine precision\n",
    "\n",
    "**Tips**: define a new variable by adding a smaller and smaller value (proceeding similarly to prob. 2) to an original variable and check the point where the two are the same "
   ]
  },
  {
   "cell_type": "code",
   "execution_count": 43,
   "metadata": {},
   "outputs": [
    {
     "name": "stdout",
     "output_type": "stream",
     "text": [
      "Insert a value: 4545\n",
      "Number of iterations:  42\n",
      "Machine precision:  2.2737367544323206e-13\n"
     ]
    }
   ],
   "source": [
    "val = input(\"Insert a value: \")\n",
    "val = float(val)\n",
    "temp = 0\n",
    "i = 1\n",
    "while val != temp:\n",
    "    temp = 0\n",
    "    temp = val + (2**(-i))\n",
    "    i += 1\n",
    "print(\"Number of iterations: \", i)\n",
    "print(\"Machine precision: \", 2**(-i))"
   ]
  },
  {
   "cell_type": "markdown",
   "metadata": {},
   "source": [
    "5\\. Write a function that takes in input three parameters $a$, $b$ and $c$ and prints out the two solutions to the quadratic equation $ax^2+bx+c=0$ using the standard formula:\n",
    "$$\n",
    "x=\\frac{-b\\pm\\sqrt{b^2-4ac}}{2a}\n",
    "$$\n",
    "\n",
    "(a) use the program to compute the solution for $a=0.001$, $b=1000$ and $c=0.001$\n",
    "\n",
    "(b) re-express the standard solution formula by multiplying top and bottom by $-b\\mp\\sqrt{b^2-4ac}$ and again find the solution for $a=0.001$, $b=1000$ and $c=0.001$. How does it compare with what previously obtained? Why?\n",
    "\n",
    "(c) write a function that compute the roots of a quadratic equation accurately in all cases"
   ]
  },
  {
   "cell_type": "code",
   "execution_count": 17,
   "metadata": {},
   "outputs": [
    {
     "name": "stdout",
     "output_type": "stream",
     "text": [
      "Insert parameter a: 0.001\n",
      "Insert parameter b: 1000\n",
      "Insert parameter c: 0.001\n",
      "Solutions, first method:  -9.999894245993346e-07 -999999.999999\n",
      "Algorithm is not working properly\n",
      "Solutions, second method:  -9.999894245993346e-07 -999999.9999990001\n",
      "Algorithm is not working properly\n",
      "Solutions, third method:  -999999.999999 -1.000000000001e-06\n",
      "Algorithm is working properly\n"
     ]
    }
   ],
   "source": [
    "import math as m\n",
    "import numpy as np\n",
    "\n",
    "def solutions1(c1, c2, c3):\n",
    "    if (c2**2)-(4*c1*c3) >= 0:\n",
    "        x1 = (-c2 + m.sqrt((c2**2)-(4*c1*c3)))/(2*c1)\n",
    "        x2 = (-c2 - m.sqrt((c2**2)-(4*c1*c3)))/(2*c1)\n",
    "        print(\"Solutions, first method: \", x1, x2)\n",
    "        if c1 != 0:\n",
    "            if c2/c1 == -(x1 + x2) and c3/c1 == x1*x2:\n",
    "                print(\"Algorithm is working properly\")\n",
    "            else:\n",
    "                print(\"Algorithm is not working properly\")\n",
    "        else:\n",
    "            print(\"First grade equation\")\n",
    "    else:\n",
    "        print(\"No real solutions.\")\n",
    "    \n",
    "def solutions2(d1, d2, d3):\n",
    "    if (d2**2)-(4*d1*d3) >= 0:\n",
    "        y1 = ((-d2 + m.sqrt((d2**2)-(4*d1*d3)))*(-d2 - m.sqrt((d2**2)-(4*d1*d3))))/((2*d1)*(-d2 - m.sqrt((d2**2)-(4*d1*d3))))\n",
    "        y2 = ((-d2 - m.sqrt((d2**2)-(4*d1*d3)))*(-d2 + m.sqrt((d2**2)-(4*d1*d3))))/((2*d1)*(-d2 + m.sqrt((d2**2)-(4*d1*d3))))\n",
    "        print(\"Solutions, second method: \", y1, y2)\n",
    "        if d1 != 0:\n",
    "            if d2/d1 == -(y1 + y2) and d3/d1 == y1*y2:\n",
    "                print(\"Algorithm is working properly\")\n",
    "            else:\n",
    "                print(\"Algorithm is not working properly\")\n",
    "        else:\n",
    "            print(\"First grade equation\")\n",
    "    else:\n",
    "        print(\"No real solutions.\")\n",
    "        \n",
    "def solutions(c1, c2, c3):\n",
    "    if (c2**2)-(4*c1*c3) >= 0:\n",
    "        x1 = (-c2 - (np.sign(c2)*m.sqrt((c2**2)-(4*c1*c3))))/(2*c1)\n",
    "        x2 = c3/(c1*x1)\n",
    "        print(\"Solutions, third method: \", x1, x2)\n",
    "        if c1 != 0:\n",
    "            if c2/c1 == -(x1 + x2) and c3/c1 == x1*x2:\n",
    "                print(\"Algorithm is working properly\")\n",
    "            else:\n",
    "                print(\"Algorithm is not working properly\")\n",
    "        else:\n",
    "            print(\"First grade equation\")\n",
    "    else:\n",
    "        print(\"No real solutions.\")\n",
    "\n",
    "a = input(\"Insert parameter a: \")\n",
    "a = float(a)\n",
    "b = input(\"Insert parameter b: \")\n",
    "b = float(b)\n",
    "c = input(\"Insert parameter c: \")\n",
    "c = float(c)\n",
    "\n",
    "solutions1(a, b, c)\n",
    "solutions2(a, b, c)\n",
    "solutions(a, b, c)"
   ]
  },
  {
   "cell_type": "markdown",
   "metadata": {},
   "source": [
    "First and second methods are affected by loss of significance when calculating the solutions. This is due to the fact that $b >> a,c$. By multiplying the standard formula top and bottom by $-b\\mp\\sqrt{b^2-4ac}$, we remove the loss from the upper member, but at the same time we move it to the lower one. So both the first and the second algorithm gives bad results. "
   ]
  },
  {
   "cell_type": "markdown",
   "metadata": {},
   "source": [
    "6\\. Write a program that implements the function $f(x)=x(x−1)$\n",
    "\n",
    "(a) Calculate the derivative of the function at the point $x = 1$ using the derivative definition:\n",
    "\n",
    "$$\n",
    "\\frac{{\\rm d}f}{{\\rm d}x} = \\lim_{\\delta\\to0} \\frac{f(x+\\delta)-f(x)}{\\delta}\n",
    "$$\n",
    "\n",
    "with $\\delta = 10^{−2}$. Calculate the true value of the same derivative analytically and compare with the answer your program gives. The two will not agree perfectly. Why not?\n",
    "\n",
    "(b) Repeat the calculation for $\\delta = 10^{−4}, 10^{−6}, 10^{−8}, 10^{−10}, 10^{−12}$ and $10^{−14}$. How does the accuracy scales with $\\delta$?"
   ]
  },
  {
   "cell_type": "code",
   "execution_count": 6,
   "metadata": {},
   "outputs": [
    {
     "name": "stdout",
     "output_type": "stream",
     "text": [
      "Value of the analytical derivative in x=1:  1\n",
      "Value of the computed derivative in x=1 for delta = 10^-2:  1.010000000000001\n",
      "Since delta is a small number, the difference between f calculated in x and f calculated in x+delta,\n",
      "is related to a large rounding error. For this reason the computed derivative doesn't match perfectly with the analytical one.\n",
      "[-1.9999999999999996, -3.999999999999999, -5.999999999999999, -8.0, -10.0, -11.999999999999998, -14.0]\n",
      "[-1.9999999999999611, -4.000000000478354, -6.000035729452325, -8.40643386500152, -7.081757964750937, -4.051095389298782, -3.0973022291299896]\n",
      "Rounding error is also present in the calculation of logarithms\n",
      "In the graph below are plotted the logarithms of the differences between the computed derivatives and the analytical ones \n",
      "in function of the logarithms of the corresponding deltas.\n"
     ]
    },
    {
     "data": {
      "image/png": "[encoded data removed]",
      "text/plain": [
       "<Figure size 432x288 with 1 Axes>"
      ]
     },
     "metadata": {
      "needs_background": "light"
     },
     "output_type": "display_data"
    }
   ],
   "source": [
    "import math as m\n",
    "from matplotlib import pyplot as plt\n",
    "\n",
    "def f(x):\n",
    "    func = x*(x-1)\n",
    "    return func\n",
    "\n",
    "def df(x, d):\n",
    "    der = (f(x+d)-f(x))/d\n",
    "    return der\n",
    "\n",
    "def adf(x):\n",
    "    return (2*x)-1\n",
    "\n",
    "print(\"Value of the analytical derivative in x=1: \", adf(1))\n",
    "delta = 10**(-2)\n",
    "print(\"Value of the computed derivative in x=1 for delta = 10^-2: \", df(1, delta))\n",
    "print(\"Since delta is a small number, the difference between f calculated in x and f calculated in x+delta,\\nis related to a large rounding error. For this reason the computed derivative doesn't match perfectly with the analytical one.\")\n",
    "\n",
    "X = []\n",
    "Y = []\n",
    "for i in range(1, 8):\n",
    "    n = 2*i\n",
    "    delta = 10**(-n)\n",
    "    diff = abs(adf(1) - df(1, delta))\n",
    "    X.append(m.log(delta, 10))\n",
    "    Y.append(m.log(diff, 10))\n",
    "print(X)\n",
    "print(Y)\n",
    "print(\"Rounding error is also present in the calculation of logarithms\")\n",
    "print(\"In the graph below are plotted the logarithms of the differences between the computed derivatives and the analytical ones \\nin function of the logarithms of the corresponding deltas.\")\n",
    "plt.xlim(-15, 0)\n",
    "plt.ylim(-9, -1)\n",
    "plt.plot(X, Y, color=\"red\", marker=\"o\", linestyle=\"\")\n",
    "plt.show()"
   ]
  },
  {
   "cell_type": "markdown",
   "metadata": {},
   "source": [
    "7\\. Consider the integral of the semicircle of radius 1:\n",
    "$$\n",
    "I=\\int_{-1}^{1} \\sqrt(1-x^2) {\\rm d}x\n",
    "$$\n",
    "which it's known to be $I=\\frac{\\pi}{2}=1.57079632679...$.\n",
    "Alternatively we can use the Riemann definition of the integral:\n",
    "$$\n",
    "I=\\lim_{N\\to\\infty} \\sum_{k=1}^{N} h y_k \n",
    "$$\n",
    "\n",
    "with $h=2/N$ the width of each of the $N$ slices the domain is divided into and where\n",
    "$y_k$ is the value of the function at the $k-$th slice.\n",
    "\n",
    "(a) Write a programe to compute the integral with $N=100$. How does the result compares to the true value?\n",
    "\n",
    "(b) How much can $N$ be increased if the computation needs to be run in less than a second? What is the gain in running it for 1 minute? \n"
   ]
  },
  {
   "cell_type": "code",
   "execution_count": 67,
   "metadata": {},
   "outputs": [
    {
     "name": "stdout",
     "output_type": "stream",
     "text": [
      "The true value of the integral is:  1.5707963267948966\n",
      "The computed value of the integral with N = 100 steps is:  1.5691342555492505\n",
      "The difference with the analytical value is:  0.0016620712456461018\n",
      "For N = 1727000 steps the program runs for 0.9854483604431152 seconds and I = 1.5707963260622702\n",
      "The difference with the analytical value is:  7.326264039875241e-10\n",
      "For N = 99970000 steps the program runs for 55.26412487030029 seconds and I = 1.5707963267932978\n",
      "The difference with the analytical value is:  1.5987211554602254e-12\n"
     ]
    }
   ],
   "source": [
    "import math as m\n",
    "import time\n",
    "#from datetime import datetime, timedelta\n",
    "\n",
    "def f(x):\n",
    "    func = m.sqrt(1-(x**2))\n",
    "    return func\n",
    "\n",
    "def integral(N):\n",
    "    h = 2/N\n",
    "    xin = -1.\n",
    "    I = 0.\n",
    "    for i in range(0, N):\n",
    "        xi = xin + (h*i)\n",
    "        I += f(xi)*h\n",
    "    print(\"The computed value of the integral with N =\", N,\"steps is: \", I)\n",
    "    print(\"The difference with the analytical value is: \", abs(I - (m.pi/2)))\n",
    "\n",
    "def t_integral(N):\n",
    "    h = 2/N\n",
    "    xin = -1.\n",
    "    I = 0.\n",
    "    start = time.time()\n",
    "    for i in range(0, N):\n",
    "        xi = xin + (h*i)\n",
    "        I += f(xi)*h\n",
    "    stop = time.time() - start\n",
    "    print(\"For N =\", N, \"steps the program runs for\", stop, \"seconds and I =\", I)\n",
    "    print(\"The difference with the analytical value is: \", abs(I - (m.pi/2)))\n",
    "    \n",
    "\n",
    "print(\"The true value of the integral is: \", m.pi/2)\n",
    "integral(100)\n",
    "t_integral(1727000)\n",
    "t_integral(99970000)"
   ]
  }
 ],
 "metadata": {
  "kernelspec": {
   "display_name": "Python 3",
   "language": "python",
   "name": "python3"
  },
  "language_info": {
   "codemirror_mode": {
    "name": "ipython",
    "version": 3
   },
   "file_extension": ".py",
   "mimetype": "text/x-python",
   "name": "python",
   "nbconvert_exporter": "python",
   "pygments_lexer": "ipython3",
   "version": "3.8.3"
  }
 },
 "nbformat": 4,
 "nbformat_minor": 2
}
