{
 "cells": [
  {
   "cell_type": "markdown",
   "metadata": {},
   "source": [
    "### Numpy basics"
   ]
  },
  {
   "cell_type": "markdown",
   "metadata": {},
   "source": [
    "1\\. Find the row, column and overall means for the following matrix:\n",
    "\n",
    "```python\n",
    "m = np.arange(12).reshape((3,4))\n",
    "```"
   ]
  },
  {
   "cell_type": "code",
   "execution_count": 7,
   "metadata": {},
   "outputs": [
    {
     "name": "stdout",
     "output_type": "stream",
     "text": [
      "[[ 0  1  2  3]\n",
      " [ 4  5  6  7]\n",
      " [ 8  9 10 11]]\n",
      "Rank of the array: 2\n",
      "Shape of the array (rows, columns): (3, 4)\n",
      "Size of the first dimension (rows): 3\n"
     ]
    }
   ],
   "source": [
    "import numpy as np\n",
    "\n",
    "m = np.arange(12).reshape((3,4))\n",
    "\n",
    "print(m)\n",
    "print(\"Rank of the array:\", m.ndim)\n",
    "print(\"Shape of the array (rows, columns):\", m.shape)\n",
    "print(\"Size of the first dimension (rows):\", len(m))"
   ]
  },
  {
   "cell_type": "markdown",
   "metadata": {},
   "source": [
    "2\\. Find the outer product of the following two vecotrs\n",
    "\n",
    "```python\n",
    "u = np.array([1,3,5,7])\n",
    "v = np.array([2,4,6,8])\n",
    "```\n",
    "\n",
    "Do this in the following ways:\n",
    "\n",
    "   * Using the function outer in numpy\n",
    "   * Using a nested for loop or list comprehension\n",
    "   * Using numpy broadcasting operatoins\n"
   ]
  },
  {
   "cell_type": "code",
   "execution_count": 45,
   "metadata": {},
   "outputs": [
    {
     "name": "stdout",
     "output_type": "stream",
     "text": [
      "u =  [1 3 5 7]\n",
      "v =  [2 4 6 8]\n",
      "Outer product between u and v, 1st method:\n",
      "[[ 2  4  6  8]\n",
      " [ 6 12 18 24]\n",
      " [10 20 30 40]\n",
      " [14 28 42 56]]\n",
      "Outer product between u and v, 2nd method:\n",
      "[[ 2  4  6  8]\n",
      " [ 6 12 18 24]\n",
      " [10 20 30 40]\n",
      " [14 28 42 56]]\n",
      "Outer product between u and v, 3rd method:\n",
      "[[ 2  4  6  8]\n",
      " [ 6 12 18 24]\n",
      " [10 20 30 40]\n",
      " [14 28 42 56]]\n"
     ]
    }
   ],
   "source": [
    "import numpy as np\n",
    "\n",
    "u = np.array([1,3,5,7])\n",
    "print(\"u = \", u)\n",
    "v = np.array([2,4,6,8])\n",
    "print(\"v = \", v)\n",
    "\n",
    "#1st method\n",
    "print(\"Outer product between u and v, 1st method:\")\n",
    "w1 = np.outer(u, v)\n",
    "print(w1)\n",
    "#2nd method\n",
    "print(\"Outer product between u and v, 2nd method:\")\n",
    "w2 = np.array([u[i]*v for i in range(0, len(u))])\n",
    "print(w2)\n",
    "#3rd method\n",
    "print(\"Outer product between u and v, 3rd method:\")\n",
    "p = np.tile(v, (4, 1))\n",
    "t = u.copy()\n",
    "t.shape = (4, 1)\n",
    "w3 = p*t\n",
    "print(w3)\n",
    "        \n",
    "        "
   ]
  },
  {
   "cell_type": "markdown",
   "metadata": {},
   "source": [
    "3\\. Create a 10 by 6 matrix of random uniform numbers. Set all rows with any entry less than 0.1 to be zero\n",
    "\n",
    "Hint: Use the following numpy functions - np.random.random, np.any as well as Boolean indexing and the axis argument."
   ]
  },
  {
   "cell_type": "code",
   "execution_count": 44,
   "metadata": {},
   "outputs": [
    {
     "name": "stdout",
     "output_type": "stream",
     "text": [
      "10x6 matrix of uniform random numbers:\n",
      "a = [[0.3177155  0.60355677 0.28052848 0.41740287 0.87886807 0.86755181]\n",
      " [0.10735213 0.94894977 0.54327181 0.7069175  0.8003522  0.08980991]\n",
      " [0.67191169 0.35588602 0.90881064 0.85979763 0.44418955 0.77000815]\n",
      " [0.51717615 0.04816837 0.12247634 0.97534924 0.53257229 0.0773956 ]\n",
      " [0.8068968  0.7070252  0.24174951 0.09575175 0.83277972 0.29821402]\n",
      " [0.72073326 0.97581714 0.71445391 0.43569205 0.90276841 0.2010518 ]\n",
      " [0.03248014 0.2441213  0.79121757 0.42829887 0.20074399 0.68221423]\n",
      " [0.64360424 0.55890417 0.30304326 0.29332259 0.63257694 0.98998628]\n",
      " [0.18459398 0.40435112 0.80216358 0.08929485 0.10607559 0.23799005]\n",
      " [0.05194541 0.47061905 0.49857635 0.20531685 0.75008729 0.98122572]]\n",
      "\n",
      "\n",
      "Modified matrix:\n",
      " [[0.3177155  0.60355677 0.28052848 0.41740287 0.87886807 0.86755181]\n",
      " [0.         0.         0.         0.         0.         0.        ]\n",
      " [0.67191169 0.35588602 0.90881064 0.85979763 0.44418955 0.77000815]\n",
      " [0.         0.         0.         0.         0.         0.        ]\n",
      " [0.         0.         0.         0.         0.         0.        ]\n",
      " [0.72073326 0.97581714 0.71445391 0.43569205 0.90276841 0.2010518 ]\n",
      " [0.         0.         0.         0.         0.         0.        ]\n",
      " [0.64360424 0.55890417 0.30304326 0.29332259 0.63257694 0.98998628]\n",
      " [0.         0.         0.         0.         0.         0.        ]\n",
      " [0.         0.         0.         0.         0.         0.        ]]\n"
     ]
    }
   ],
   "source": [
    "import numpy as np\n",
    "\n",
    "a = np.random.rand(10, 6)\n",
    "print (\"10x6 matrix of uniform random numbers:\\na =\", a)\n",
    "print('\\n')\n",
    "\n",
    "for i in range(0, len(a)):\n",
    "    if np.any(a[i] < 0.1) == True:\n",
    "        a[i] = np.zeros((1, 6))\n",
    "    else:\n",
    "        a[i] = a[i]\n",
    "\n",
    "print (\"Modified matrix:\\n\", a)"
   ]
  },
  {
   "cell_type": "markdown",
   "metadata": {},
   "source": [
    "4\\. Use np.linspace to create an array of 100 numbers between 0 and 2π (includsive).\n",
    "\n",
    "  * Extract every 10th element using slice notation\n",
    "  * Reverse the array using slice notation\n",
    "  * Extract elements where the absolute difference between the sine and cosine functions evaluated at that element is less than 0.1\n",
    "  * Make a plot showing the sin and cos functions and indicate where they are close"
   ]
  },
  {
   "cell_type": "code",
   "execution_count": 15,
   "metadata": {},
   "outputs": [
    {
     "name": "stdout",
     "output_type": "stream",
     "text": [
      "Array of 100 numbers between 0 and 2*pi:\n",
      "a = [0.         0.06346652 0.12693304 0.19039955 0.25386607 0.31733259\n",
      " 0.38079911 0.44426563 0.50773215 0.57119866 0.63466518 0.6981317\n",
      " 0.76159822 0.82506474 0.88853126 0.95199777 1.01546429 1.07893081\n",
      " 1.14239733 1.20586385 1.26933037 1.33279688 1.3962634  1.45972992\n",
      " 1.52319644 1.58666296 1.65012947 1.71359599 1.77706251 1.84052903\n",
      " 1.90399555 1.96746207 2.03092858 2.0943951  2.15786162 2.22132814\n",
      " 2.28479466 2.34826118 2.41172769 2.47519421 2.53866073 2.60212725\n",
      " 2.66559377 2.72906028 2.7925268  2.85599332 2.91945984 2.98292636\n",
      " 3.04639288 3.10985939 3.17332591 3.23679243 3.30025895 3.36372547\n",
      " 3.42719199 3.4906585  3.55412502 3.61759154 3.68105806 3.74452458\n",
      " 3.8079911  3.87145761 3.93492413 3.99839065 4.06185717 4.12532369\n",
      " 4.1887902  4.25225672 4.31572324 4.37918976 4.44265628 4.5061228\n",
      " 4.56958931 4.63305583 4.69652235 4.75998887 4.82345539 4.88692191\n",
      " 4.95038842 5.01385494 5.07732146 5.14078798 5.2042545  5.26772102\n",
      " 5.33118753 5.39465405 5.45812057 5.52158709 5.58505361 5.64852012\n",
      " 5.71198664 5.77545316 5.83891968 5.9023862  5.96585272 6.02931923\n",
      " 6.09278575 6.15625227 6.21971879 6.28318531] \n",
      "\n",
      "Array of ever 10th element of a:\n",
      " [0.         0.63466518 1.26933037 1.90399555 2.53866073 3.17332591\n",
      " 3.8079911  4.44265628 5.07732146 5.71198664] \n",
      "\n",
      "Reversed a array:\n",
      " [6.28318531 6.21971879 6.15625227 6.09278575 6.02931923 5.96585272\n",
      " 5.9023862  5.83891968 5.77545316 5.71198664 5.64852012 5.58505361\n",
      " 5.52158709 5.45812057 5.39465405 5.33118753 5.26772102 5.2042545\n",
      " 5.14078798 5.07732146 5.01385494 4.95038842 4.88692191 4.82345539\n",
      " 4.75998887 4.69652235 4.63305583 4.56958931 4.5061228  4.44265628\n",
      " 4.37918976 4.31572324 4.25225672 4.1887902  4.12532369 4.06185717\n",
      " 3.99839065 3.93492413 3.87145761 3.8079911  3.74452458 3.68105806\n",
      " 3.61759154 3.55412502 3.4906585  3.42719199 3.36372547 3.30025895\n",
      " 3.23679243 3.17332591 3.10985939 3.04639288 2.98292636 2.91945984\n",
      " 2.85599332 2.7925268  2.72906028 2.66559377 2.60212725 2.53866073\n",
      " 2.47519421 2.41172769 2.34826118 2.28479466 2.22132814 2.15786162\n",
      " 2.0943951  2.03092858 1.96746207 1.90399555 1.84052903 1.77706251\n",
      " 1.71359599 1.65012947 1.58666296 1.52319644 1.45972992 1.3962634\n",
      " 1.33279688 1.26933037 1.20586385 1.14239733 1.07893081 1.01546429\n",
      " 0.95199777 0.88853126 0.82506474 0.76159822 0.6981317  0.63466518\n",
      " 0.57119866 0.50773215 0.44426563 0.38079911 0.31733259 0.25386607\n",
      " 0.19039955 0.12693304 0.06346652 0.        ] \n",
      "\n",
      "Elements of vector a for which the absolute difference between the sine and cosine functions evaluated at that element is less than 0.1:  [0.76159822 0.82506474 3.87145761 3.93492413] \n",
      "\n",
      "The graph below shows sin and cos functions and the two peaks indicates where the two functions are close\n"
     ]
    },
    {
     "data": {
      "image/png": "[encoded data removed]",
      "text/plain": [
       "<Figure size 432x288 with 1 Axes>"
      ]
     },
     "metadata": {
      "needs_background": "light"
     },
     "output_type": "display_data"
    }
   ],
   "source": [
    "import numpy as np\n",
    "import matplotlib.pyplot as plt\n",
    "\n",
    "a = np.linspace(0, 2*np.pi, 100)\n",
    "print(\"Array of 100 numbers between 0 and 2*pi:\\na =\", a, '\\n')\n",
    "\n",
    "print(\"Array of ever 10th element of a:\\n\", a[::10], '\\n')\n",
    "\n",
    "print(\"Reversed a array:\\n\", a[::-1], '\\n')\n",
    "\n",
    "mask = (abs(np.sin(a) - np.cos(a)) < 0.1)\n",
    "#print(mask)\n",
    "filtered_a = a[mask]\n",
    "print(\"Elements of vector a for which the absolute difference between the sine and cosine functions evaluated at that element is less than 0.1: \", filtered_a, '\\n')\n",
    "\n",
    "s = np.sin(a)\n",
    "c = np.cos(a)\n",
    "for i in range(0, len(filtered_a)):\n",
    "    itemindex = np.where(a == filtered_a[i])\n",
    "    s[itemindex] = 2\n",
    "    c[itemindex] = 2\n",
    "print(\"The graph below shows sin and cos functions and the two peaks indicates where the two functions are close\")\n",
    "%matplotlib inline\n",
    "plt.plot(a, s, 'r')\n",
    "plt.plot(a, c, 'b')\n",
    "plt.show()"
   ]
  },
  {
   "cell_type": "markdown",
   "metadata": {},
   "source": [
    "5\\. Create a matrix that shows the 10 by 10 multiplication table.\n",
    "\n",
    " * Find the trace of the matrix\n",
    " * Extract the anto-diagonal (this should be ```array([10, 18, 24, 28, 30, 30, 28, 24, 18, 10])```)\n",
    " * Extract the diagnoal offset by 1 upwards (this should be ```array([ 2,  6, 12, 20, 30, 42, 56, 72, 90])```)"
   ]
  },
  {
   "cell_type": "code",
   "execution_count": 28,
   "metadata": {},
   "outputs": [
    {
     "name": "stdout",
     "output_type": "stream",
     "text": [
      "10 by 10 multiplication table (matrix): \n",
      " [[  1   2   3   4   5   6   7   8   9  10]\n",
      " [  2   4   6   8  10  12  14  16  18  20]\n",
      " [  3   6   9  12  15  18  21  24  27  30]\n",
      " [  4   8  12  16  20  24  28  32  36  40]\n",
      " [  5  10  15  20  25  30  35  40  45  50]\n",
      " [  6  12  18  24  30  36  42  48  54  60]\n",
      " [  7  14  21  28  35  42  49  56  63  70]\n",
      " [  8  16  24  32  40  48  56  64  72  80]\n",
      " [  9  18  27  36  45  54  63  72  81  90]\n",
      " [ 10  20  30  40  50  60  70  80  90 100]] \n",
      "\n",
      "Anti-diagonal of the matrix: \n",
      " [10 18 24 28 30 30 28 24 18 10] \n",
      "\n",
      "Diagonal offset by 1 upwards of the matrix: \n",
      " [ 2  6 12 20 30 42 56 72 90]\n"
     ]
    }
   ],
   "source": [
    "import numpy as np\n",
    "\n",
    "a = np.arange(1, 11)\n",
    "mt = a * (a[:,np.newaxis])\n",
    "print(\"10 by 10 multiplication table (matrix): \\n\", mt, '\\n')\n",
    "\n",
    "flipped_mt = np.fliplr(mt)\n",
    "print(\"Anti-diagonal of the matrix: \\n\", flipped_mt.diagonal(), '\\n')\n",
    "\n",
    "ud = np.array([],'uint32')\n",
    "for i in range(0, len(mt)-1):\n",
    "    ud = np.append(ud, mt[i][i+1])\n",
    "print(\"Diagonal offset by 1 upwards of the matrix: \\n\", ud)"
   ]
  },
  {
   "cell_type": "markdown",
   "metadata": {},
   "source": [
    "6\\. Use broadcasting to create a grid of distances\n",
    "\n",
    "Route 66 crosses the following cities in the US: Chicago, Springfield, Saint-Louis, Tulsa, Oklahoma City, Amarillo, Santa Fe, Albuquerque, Flagstaff, Los Angeles\n",
    "The corresponding positions in miles are: 0, 198, 303, 736, 871, 1175, 1475, 1544, 1913, 2448\n",
    "\n",
    "  * Construct a 2D grid of distances among each city along Route 66\n",
    "  * Convert that in km (those savages...)"
   ]
  },
  {
   "cell_type": "code",
   "execution_count": 16,
   "metadata": {},
   "outputs": [
    {
     "ename": "UFuncTypeError",
     "evalue": "ufunc 'add' did not contain a loop with signature matching types (dtype('<U13'), dtype('<U13')) -> dtype('<U13')",
     "output_type": "error",
     "traceback": [
      "\u001b[1;31m---------------------------------------------------------------------------\u001b[0m",
      "\u001b[1;31mUFuncTypeError\u001b[0m                            Traceback (most recent call last)",
      "\u001b[1;32m<ipython-input-16-3ffb86f370ee>\u001b[0m in \u001b[0;36m<module>\u001b[1;34m\u001b[0m\n\u001b[0;32m      2\u001b[0m \u001b[0mcities\u001b[0m \u001b[1;33m=\u001b[0m \u001b[0mnp\u001b[0m\u001b[1;33m.\u001b[0m\u001b[0marray\u001b[0m\u001b[1;33m(\u001b[0m\u001b[1;33m[\u001b[0m\u001b[1;34m\"Chicago\"\u001b[0m\u001b[1;33m,\u001b[0m \u001b[1;34m\"Springfield\"\u001b[0m\u001b[1;33m,\u001b[0m \u001b[1;34m\"Saint-Louis\"\u001b[0m\u001b[1;33m,\u001b[0m \u001b[1;34m\"Tulsa\"\u001b[0m\u001b[1;33m,\u001b[0m \u001b[1;34m\"Oklahoma City\"\u001b[0m\u001b[1;33m,\u001b[0m \u001b[1;34m\"Amarillo\"\u001b[0m\u001b[1;33m,\u001b[0m \u001b[1;34m\"Santa Fe\"\u001b[0m\u001b[1;33m,\u001b[0m \u001b[1;34m\"Albuquerque\"\u001b[0m\u001b[1;33m,\u001b[0m \u001b[1;34m\"Flagstaff\"\u001b[0m\u001b[1;33m,\u001b[0m \u001b[1;34m\"Los Angeles\"\u001b[0m\u001b[1;33m]\u001b[0m\u001b[1;33m)\u001b[0m\u001b[1;33m\u001b[0m\u001b[1;33m\u001b[0m\u001b[0m\n\u001b[0;32m      3\u001b[0m \u001b[0mdistances\u001b[0m \u001b[1;33m=\u001b[0m \u001b[0mnp\u001b[0m\u001b[1;33m.\u001b[0m\u001b[0marray\u001b[0m\u001b[1;33m(\u001b[0m\u001b[1;33m[\u001b[0m\u001b[1;36m0\u001b[0m\u001b[1;33m,\u001b[0m \u001b[1;36m198\u001b[0m\u001b[1;33m,\u001b[0m \u001b[1;36m303\u001b[0m\u001b[1;33m,\u001b[0m \u001b[1;36m736\u001b[0m\u001b[1;33m,\u001b[0m \u001b[1;36m871\u001b[0m\u001b[1;33m,\u001b[0m \u001b[1;36m1175\u001b[0m\u001b[1;33m,\u001b[0m \u001b[1;36m1475\u001b[0m\u001b[1;33m,\u001b[0m \u001b[1;36m1544\u001b[0m\u001b[1;33m,\u001b[0m \u001b[1;36m1913\u001b[0m\u001b[1;33m,\u001b[0m \u001b[1;36m2448\u001b[0m\u001b[1;33m]\u001b[0m\u001b[1;33m)\u001b[0m\u001b[1;33m\u001b[0m\u001b[1;33m\u001b[0m\u001b[0m\n\u001b[1;32m----> 4\u001b[1;33m \u001b[0mprint\u001b[0m \u001b[1;33m(\u001b[0m\u001b[1;34m\"broadcasted sum :\"\u001b[0m\u001b[1;33m,\u001b[0m\u001b[1;34m'\\n'\u001b[0m\u001b[1;33m,\u001b[0m\u001b[0mcities\u001b[0m \u001b[1;33m+\u001b[0m \u001b[0mdistances\u001b[0m\u001b[1;33m,\u001b[0m\u001b[1;34m'\\n'\u001b[0m\u001b[1;33m)\u001b[0m\u001b[1;33m\u001b[0m\u001b[1;33m\u001b[0m\u001b[0m\n\u001b[0m",
      "\u001b[1;31mUFuncTypeError\u001b[0m: ufunc 'add' did not contain a loop with signature matching types (dtype('<U13'), dtype('<U13')) -> dtype('<U13')"
     ]
    }
   ],
   "source": [
    "import numpy as np\n",
    "\n",
    "cities = np.array([\"Chicago\", \"Springfield\", \"Saint-Louis\", \"Tulsa\", \"Oklahoma City\", \"Amarillo\", \"Santa Fe\", \"Albuquerque\", \"Flagstaff\", \"Los Angeles\"])\n",
    "distances = np.array([0, 198, 303, 736, 871, 1175, 1475, 1544, 1913, 2448])"
   ]
  },
  {
   "cell_type": "code",
   "execution_count": null,
   "metadata": {},
   "outputs": [],
   "source": []
  },
  {
   "cell_type": "markdown",
   "metadata": {},
   "source": [
    "7\\. Prime numbers sieve: compute the prime numbers in the 0-N (N=99 to start with) range with a sieve (mask).\n",
    "  * Constract a shape (100,) boolean array, the mask\n",
    "  * Identify the multiples of each number starting from 2 and set accordingly the corresponding mask element\n",
    "  * Apply the mask to obtain an array of ordered prime numbers\n",
    "  * Check the performances (timeit); how does it scale with N?\n",
    "  * Implement the optimization suggested in the [sieve of Eratosthenes](https://en.wikipedia.org/wiki/Sieve_of_Eratosthenes)"
   ]
  },
  {
   "cell_type": "code",
   "execution_count": 35,
   "metadata": {},
   "outputs": [
    {
     "name": "stdout",
     "output_type": "stream",
     "text": [
      "[ 1 11 13 17 19 23 29 31 37 41 43 47 53 59 61 67 71 73 79 83 89 97]\n"
     ]
    }
   ],
   "source": [
    "import numpy as np\n",
    "import math as m\n",
    "\n",
    "a = np.arange(0, 100)\n",
    "f = np.array([],'uint32')\n",
    "#print(a)\n",
    "for i in range(2, int(m.sqrt(100))):\n",
    "    mask1 = (a % i != 0)\n",
    "    mask2 = (a / i >= 1)\n",
    "    filtered_a1 = a[mask2]\n",
    "    filtered_a2 = a[mask1]\n",
    "    a = filtered_a2\n",
    "print(a)\n",
    "#mask1 = (a%2 != 0)\n",
    "#mask2 = (a/2 >= 1)\n",
    "#mask = (a % i != 0 for i in range(2, int(m.sqrt(100))))\n",
    "#print(mask)\n",
    "#filtered_a1 = a[mask2]\n",
    "#filtered_a2 = a[mask1]\n",
    "#print(filtered_a2)\n",
    "#print(\"2, 3, 5, 7, 11, 13, 17, 19, 23, 29, 31, 37, 41, 43, 47, 53, 59, 61, 67, 71, 73, 79, 83, 89, 97\")"
   ]
  },
  {
   "cell_type": "markdown",
   "metadata": {},
   "source": [
    "8\\. Diffusion using random walk\n",
    "\n",
    "Consider a simple random walk process: at each step in time, a walker jumps right or left (+1 or -1) with equal probability. The goal is to find the typical distance from the origin of a random walker after a given amount of time. \n",
    "To do that, let's simulate many walkers and create a 2D array with each walker as a raw and the actual time evolution as columns\n",
    "\n",
    "  * Take 1000 walkers and let them walk for 200 steps\n",
    "  * Use randint to create a 2D array of size walkers x steps with values -1 or 1\n",
    "  * Build the actual walking distances for each walker (i.e. another 2D array \"summing on each raw\")\n",
    "  * Take the square of that 2D array (elementwise)\n",
    "  * Compute the mean of the squared distances at each step (i.e. the mean along the columns)\n",
    "  * Plot the average distances (sqrt(distance\\*\\*2)) as a function of time (step)\n",
    "  \n",
    "Did you get what you expected?"
   ]
  },
  {
   "cell_type": "markdown",
   "metadata": {},
   "source": [
    "9\\. Analyze a data file \n",
    "  * Download the population of hares, lynxes and carrots at the beginning of the last century.\n",
    "    ```python\n",
    "    ! wget https://www.dropbox.com/s/3vigxoqayo389uc/populations.txt\n",
    "    ```\n",
    "\n",
    "  * Check the content by looking within the file\n",
    "  * Load the data (use an appropriate numpy method) into a 2D array\n",
    "  * Create arrays out of the columns, the arrays being (in order): *year*, *hares*, *lynxes*, *carrots* \n",
    "  * Plot the 3 populations over the years\n",
    "  * Compute the main statistical properties of the dataset (mean, std, correlations, etc.)\n",
    "  * Which species has the highest population each year?\n",
    "\n",
    "Do you feel there is some evident correlation here? [Studies](https://www.enr.gov.nt.ca/en/services/lynx/lynx-snowshoe-hare-cycle) tend to believe so."
   ]
  },
  {
   "cell_type": "code",
   "execution_count": null,
   "metadata": {},
   "outputs": [],
   "source": []
  }
 ],
 "metadata": {
  "kernelspec": {
   "display_name": "Python 3",
   "language": "python",
   "name": "python3"
  },
  "language_info": {
   "codemirror_mode": {
    "name": "ipython",
    "version": 3
   },
   "file_extension": ".py",
   "mimetype": "text/x-python",
   "name": "python",
   "nbconvert_exporter": "python",
   "pygments_lexer": "ipython3",
   "version": "3.8.3"
  }
 },
 "nbformat": 4,
 "nbformat_minor": 2
}
